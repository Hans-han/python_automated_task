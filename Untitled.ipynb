{
 "cells": [
  {
   "cell_type": "code",
   "execution_count": 33,
   "id": "a53864e3",
   "metadata": {
    "pycharm": {
     "name": "#%%\n"
    }
   },
   "outputs": [
    {
     "name": "stderr",
     "output_type": "stream",
     "text": [
      "CUDA not available - defaulting to CPU. Note: This module is much faster with a GPU.\n",
      "/opt/homebrew/lib/python3.9/site-packages/torchvision/models/_utils.py:252: UserWarning: Accessing the model URLs via the internal dictionary of the module is deprecated since 0.13 and will be removed in 0.15. Please access them via the appropriate Weights Enum instead.\n",
      "  warnings.warn(\n",
      "/opt/homebrew/lib/python3.9/site-packages/torchvision/models/_utils.py:208: UserWarning: The parameter 'pretrained' is deprecated since 0.13 and will be removed in 0.15, please use 'weights' instead.\n",
      "  warnings.warn(\n",
      "/opt/homebrew/lib/python3.9/site-packages/torchvision/models/_utils.py:223: UserWarning: Arguments other than a weight enum or `None` for 'weights' are deprecated since 0.13 and will be removed in 0.15. The current behavior is equivalent to passing `weights=None`.\n",
      "  warnings.warn(msg)\n"
     ]
    }
   ],
   "source": [
    "import easyocr\n",
    "from datetime import date\n",
    "import torch\n",
    "device = torch.device(\"mps\")\n",
    "\n",
    "reader = easyocr.Reader(['ch_sim',\"en\"],gpu=device) # this needs to run only once to load the model into memory\n",
    "from openpyxl import workbook,load_workbook\n"
   ]
  },
  {
   "cell_type": "code",
   "execution_count": 34,
   "id": "7411b205",
   "metadata": {
    "pycharm": {
     "name": "#%%\n"
    }
   },
   "outputs": [
    {
     "name": "stdout",
     "output_type": "stream",
     "text": [
      "CPU times: user 9.48 s, sys: 6.21 s, total: 15.7 s\n",
      "Wall time: 9.26 s\n"
     ]
    }
   ],
   "source": [
    "%%time\n",
    "result = reader.readtext('8-1.jpeg', detail=0)"
   ]
  },
  {
   "cell_type": "code",
   "execution_count": null,
   "outputs": [],
   "source": [],
   "metadata": {
    "collapsed": false,
    "pycharm": {
     "name": "#%%\n"
    }
   }
  },
  {
   "cell_type": "code",
   "execution_count": null,
   "outputs": [],
   "source": [
    "today=date.today()\n",
    "index日期=today.strftime(\"%Y.%m.%d\")\n",
    "index价格氧化镨钕 =result.index(\"氧化镨钕\")+3\n",
    "index价格镨钕金属=result.index(\"镨钕金属\")+3\n",
    "index价格氧化镝=result.index(\"氧化镝\")+3\n",
    "index价格镝铁合金=result.index(\"镝铁合金\")+3\n",
    "index价格氧化铽=result.index(\"氧化铽\")+3\n",
    "index价格金属铽=result.index(\"金属铽\")+3\n",
    "index价格金属镧=result.index(\"金属镧\")+3\n",
    "index价格金属铈=result.index(\"金属铈\")+3\n",
    "index价格金属镨=result.index(\"金属镨\")+3\n",
    "index价格金属钕=result.index(\"金属钕\")+3\n",
    "index价格钆铁合金=result.index(\"钆铁合金\")+3\n",
    "index价格钬铁合金=result.index(\"钬铁合金\")+3\n",
    "index价格金属钴=result.index(\"金属钴\")+3\n",
    "index价格金属镓=result.index(\"金属镓\")+3\n",
    "index价格电解铜=result.index(\"电解铜\")+3\n",
    "index价格电解铝=result.index(\"电解铝\")+3\n",
    "index价格海绵锆=result.index(\"海绵锆\")+3\n",
    "index价格铌铁合金=result.index(\"铌铁合金\")+3\n",
    "index价格硼铁合金=result.index(\"硼铁合金\")+3\n",
    "index价格原料纯铁=result.index(\"原料纯铁\")+3\n",
    "\n",
    "#print(index价格硼铁合金)\n",
    "\n"
   ],
   "metadata": {
    "collapsed": false,
    "pycharm": {
     "name": "#%%\n"
    }
   }
  },
  {
   "cell_type": "code",
   "execution_count": null,
   "outputs": [],
   "source": [
    "wb=load_workbook(\"/Users/hanshan/Desktop/稀土/稀土综合价格分析.xlsx\")\n",
    "#ws=wb.active\n",
    "ws=wb[\"chart data\"]\n",
    "#print(ws['B100'].value)"
   ],
   "metadata": {
    "collapsed": false,
    "pycharm": {
     "name": "#%%\n"
    }
   }
  },
  {
   "cell_type": "code",
   "execution_count": null,
   "outputs": [],
   "source": [
    "\n",
    "ws.append([index日期,\n",
    "           result[index价格氧化镨钕],\n",
    "           result[index价格镨钕金属],\n",
    "           result[index价格氧化镝],\n",
    "           result[index价格镝铁合金],\n",
    "           result[index价格氧化铽],\n",
    "           result[index价格金属铽],\n",
    "           result[index价格金属镧],\n",
    "           result[index价格金属铈],\n",
    "           result[index价格金属镨],\n",
    "           result[index价格金属钕],\"\",\n",
    "           result[index价格钆铁合金],\n",
    "           result[index价格钬铁合金],\n",
    "           result[index价格原料纯铁],\n",
    "           result[index价格电解铜],\n",
    "           result[index价格电解铝],'',\n",
    "           result[index价格金属钴],\n",
    "           result[index价格金属镓],\n",
    "           result[index价格海绵锆],\n",
    "           result[index价格铌铁合金],\n",
    "           result[index价格硼铁合金]])\n",
    "wb.save(\"/Users/hanshan/Desktop/稀土/稀土综合价格分析.xlsx\")"
   ],
   "metadata": {
    "collapsed": false,
    "pycharm": {
     "name": "#%%\n"
    }
   }
  },
  {
   "cell_type": "markdown",
   "source": [],
   "metadata": {
    "collapsed": false,
    "pycharm": {
     "name": "#%% md\n"
    }
   }
  },
  {
   "cell_type": "code",
   "execution_count": null,
   "outputs": [],
   "source": [],
   "metadata": {
    "collapsed": false,
    "pycharm": {
     "name": "#%%\n"
    }
   }
  },
  {
   "cell_type": "code",
   "execution_count": null,
   "outputs": [],
   "source": [],
   "metadata": {
    "collapsed": false,
    "pycharm": {
     "name": "#%%\n"
    }
   }
  }
 ],
 "metadata": {
  "kernelspec": {
   "display_name": "Python 3 (ipykernel)",
   "language": "python",
   "name": "python3"
  },
  "language_info": {
   "codemirror_mode": {
    "name": "ipython",
    "version": 3
   },
   "file_extension": ".py",
   "mimetype": "text/x-python",
   "name": "python",
   "nbconvert_exporter": "python",
   "pygments_lexer": "ipython3",
   "version": "3.9.13"
  }
 },
 "nbformat": 4,
 "nbformat_minor": 5
}