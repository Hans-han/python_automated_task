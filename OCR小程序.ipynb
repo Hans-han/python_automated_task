{
 "cells": [
  {
   "cell_type": "code",
   "execution_count": 3,
   "metadata": {},
   "outputs": [],
   "source": [
    "import base64\n",
    "import json\n",
    "from tencentcloud.common import credential\n",
    "from tencentcloud.common.profile.client_profile import ClientProfile\n",
    "from tencentcloud.common.profile.http_profile import HttpProfile\n",
    "from tencentcloud.ocr.v20181119 import ocr_client, models\n",
    "\n",
    "\n"
   ]
  },
  {
   "cell_type": "code",
   "execution_count": 7,
   "metadata": {},
   "outputs": [
    {
     "name": "stdout",
     "output_type": "stream",
     "text": [
      "NOTE: If you are applying to a recognized “Early Admit’\n",
      "program (e.g.,M.Eng.), you must select as your admit\n",
      "“Term” the semester that immediately follows your\n",
      "bachelor's degree conferral, even though you may take\n",
      "courses that count towards your graduate degree during\n",
      "your final undergraduate semester. For instance, if you\n",
      "expect to receive your bachelor's degree at the\n",
      "conclusion of Spring 2023, then you should select Fall\n",
      "2023 as your admit term. If you expect to receive your\n",
      "bachelor's degree at the conclusion of Fall 2023, then you\n",
      "should select Spring 2024 as your admit term.\n"
     ]
    }
   ],
   "source": [
    "def tencent_ocr(image_path, secret_id, secret_key):\n",
    "    with open(image_path, 'rb') as image_file:\n",
    "        image_base64 = base64.b64encode(image_file.read()).decode()\n",
    "\n",
    "    cred = credential.Credential(secret_id, secret_key)\n",
    "    http_profile = HttpProfile()\n",
    "    http_profile.endpoint = \"ocr.tencentcloudapi.com\"\n",
    "\n",
    "    client_profile = ClientProfile()\n",
    "    client_profile.httpProfile = http_profile\n",
    "    client = ocr_client.OcrClient(cred, \"ap-shanghai\", client_profile)\n",
    "\n",
    "    req = models.GeneralBasicOCRRequest()\n",
    "    params = {\n",
    "        'ImageBase64': image_base64\n",
    "    }\n",
    "    req.from_json_string(json.dumps(params))\n",
    "\n",
    "    resp = client.GeneralBasicOCR(req)\n",
    "    return resp.to_json_string()\n",
    "\n",
    "def format_result(json_str):\n",
    "    result = json.loads(json_str)\n",
    "    for item in result[\"TextDetections\"]:\n",
    "        print(item[\"DetectedText\"])\n",
    "\n",
    "\n",
    "if __name__ == \"__main__\":\n",
    "    image_path = \"/Users/hanshan/Downloads/截屏2023-06-30 21.02.08.png\"\n",
    "    secret_id = \"\"\n",
    "    secret_key = \"\"\n",
    "    result = tencent_ocr(image_path, secret_id, secret_key)\n",
    "    format_result(result)\n"
   ]
  },
  {
   "cell_type": "code",
   "execution_count": 5,
   "metadata": {},
   "outputs": [
    {
     "data": {
      "text/plain": [
       "str"
      ]
     },
     "execution_count": 5,
     "metadata": {},
     "output_type": "execute_result"
    }
   ],
   "source": [
    "print(result.)"
   ]
  },
  {
   "cell_type": "code",
   "execution_count": null,
   "metadata": {},
   "outputs": [],
   "source": []
  }
 ],
 "metadata": {
  "kernelspec": {
   "display_name": "Python 3",
   "language": "python",
   "name": "python3"
  },
  "language_info": {
   "codemirror_mode": {
    "name": "ipython",
    "version": 3
   },
   "file_extension": ".py",
   "mimetype": "text/x-python",
   "name": "python",
   "nbconvert_exporter": "python",
   "pygments_lexer": "ipython3",
   "version": "3.9.6"
  },
  "orig_nbformat": 4
 },
 "nbformat": 4,
 "nbformat_minor": 2
}
